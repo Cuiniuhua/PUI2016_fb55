{
 "cells": [
  {
   "cell_type": "code",
   "execution_count": 12,
   "metadata": {
    "collapsed": false
   },
   "outputs": [],
   "source": [
    "import numpy as np\n",
    "\n",
    "p1 = 70.1/100\n",
    "p0 = 3.5/100\n",
    "\n",
    "a = 0.05\n",
    "\n",
    "# H0 p1 <= p0\n",
    "\n",
    "total_1 = 564\n",
    "total_0 = 409\n",
    "total = total_0 + total_1\n",
    "    \n",
    "con_table = np.array([[0, 0], [0, 0]])\n",
    "\n",
    "\n",
    "expected = 564 * 409 * 409.679 * 562.912"
   ]
  },
  {
   "cell_type": "code",
   "execution_count": 14,
   "metadata": {
    "collapsed": true
   },
   "outputs": [],
   "source": [
    "con_table[0][0] = p1*total_1\n",
    "con_table[1][0] = p0*total_0\n",
    "\n",
    "con_table[0][1] = tota_1*(1-p1)\n",
    "con_table[1][1] = total_0*(1-p0)"
   ]
  },
  {
   "cell_type": "code",
   "execution_count": 16,
   "metadata": {
    "collapsed": false
   },
   "outputs": [
    {
     "name": "stdout",
     "output_type": "stream",
     "text": [
      "429.720298404\n"
     ]
    }
   ],
   "source": [
    "chisqstat= lambda N, values, expect : N * ((values[0][0] * values[1][1]\n",
    "                                            -values[0][1] * values[1][0])**2) / expect\n",
    "\n",
    "print (chisqstat(total,  con_table, expected))\n"
   ]
  },
  {
   "cell_type": "code",
   "execution_count": null,
   "metadata": {
    "collapsed": true
   },
   "outputs": [],
   "source": []
  }
 ],
 "metadata": {
  "kernelspec": {
   "display_name": "Python 3",
   "language": "python",
   "name": "python3"
  },
  "language_info": {
   "codemirror_mode": {
    "name": "ipython",
    "version": 3
   },
   "file_extension": ".py",
   "mimetype": "text/x-python",
   "name": "python",
   "nbconvert_exporter": "python",
   "pygments_lexer": "ipython3",
   "version": "3.5.2"
  }
 },
 "nbformat": 4,
 "nbformat_minor": 0
}
